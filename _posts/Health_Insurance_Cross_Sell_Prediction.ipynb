{
 "cells": [
  {
   "cell_type": "markdown",
   "id": "extreme-sydney",
   "metadata": {},
   "source": [
    "# Health Insurance Cross Sell Prediction: Kaggle Competition Attempt\n",
    "\n",
    "Below, I attempt the Health Insurance Cross Sell Prediction competition on Kaggle. In this competition, competitors are required to predict which health insurance policy holders from the previous year would be interetsed in vehicle insurance in the current year, based on a variety of measurements the insurance company has on these customers. Being able to predict the propensity of customers to take up a particular insurance policy is extremely useful for the insurance company as they are then able to better structure their communication strategy in order to achieve a high take up rate.\n",
    "\n",
    "Let's begin by importing the necessary libraries."
   ]
  },
  {
   "cell_type": "code",
   "execution_count": 1,
   "id": "stupid-violin",
   "metadata": {},
   "outputs": [],
   "source": [
    "# Import the required libraries\n",
    "import pandas as pd\n",
    "import numpy as np\n",
    "\n",
    "from sklearn.model_selection import train_test_split\n",
    "\n",
    "import seaborn as sns\n",
    "\n",
    "from sklearn.tree import DecisionTreeClassifier\n",
    "from sklearn.ensemble import RandomForestClassifier\n",
    "from sklearn.metrics import roc_auc_score\n",
    "from sklearn.inspection import plot_partial_dependence\n",
    "\n",
    "import matplotlib.pyplot as plt\n",
    "\n",
    "import lightgbm as lgb"
   ]
  },
  {
   "cell_type": "markdown",
   "id": "elementary-vampire",
   "metadata": {},
   "source": [
    "Now, I read in the training dataset and peak at the head of the dataset."
   ]
  },
  {
   "cell_type": "code",
   "execution_count": 2,
   "id": "thermal-morning",
   "metadata": {},
   "outputs": [],
   "source": [
    "# Read in the training dataset\n",
    "cross_sell_df = pd.read_csv('train.csv')"
   ]
  },
  {
   "cell_type": "code",
   "execution_count": 3,
   "id": "armed-grain",
   "metadata": {},
   "outputs": [
    {
     "data": {
      "text/html": [
       "<div>\n",
       "<style scoped>\n",
       "    .dataframe tbody tr th:only-of-type {\n",
       "        vertical-align: middle;\n",
       "    }\n",
       "\n",
       "    .dataframe tbody tr th {\n",
       "        vertical-align: top;\n",
       "    }\n",
       "\n",
       "    .dataframe thead th {\n",
       "        text-align: right;\n",
       "    }\n",
       "</style>\n",
       "<table border=\"1\" class=\"dataframe\">\n",
       "  <thead>\n",
       "    <tr style=\"text-align: right;\">\n",
       "      <th></th>\n",
       "      <th>id</th>\n",
       "      <th>Gender</th>\n",
       "      <th>Age</th>\n",
       "      <th>Driving_License</th>\n",
       "      <th>Region_Code</th>\n",
       "      <th>Previously_Insured</th>\n",
       "      <th>Vehicle_Age</th>\n",
       "      <th>Vehicle_Damage</th>\n",
       "      <th>Annual_Premium</th>\n",
       "      <th>Policy_Sales_Channel</th>\n",
       "      <th>Vintage</th>\n",
       "      <th>Response</th>\n",
       "    </tr>\n",
       "  </thead>\n",
       "  <tbody>\n",
       "    <tr>\n",
       "      <th>0</th>\n",
       "      <td>1</td>\n",
       "      <td>Male</td>\n",
       "      <td>44</td>\n",
       "      <td>1</td>\n",
       "      <td>28.0</td>\n",
       "      <td>0</td>\n",
       "      <td>&gt; 2 Years</td>\n",
       "      <td>Yes</td>\n",
       "      <td>40454.0</td>\n",
       "      <td>26.0</td>\n",
       "      <td>217</td>\n",
       "      <td>1</td>\n",
       "    </tr>\n",
       "    <tr>\n",
       "      <th>1</th>\n",
       "      <td>2</td>\n",
       "      <td>Male</td>\n",
       "      <td>76</td>\n",
       "      <td>1</td>\n",
       "      <td>3.0</td>\n",
       "      <td>0</td>\n",
       "      <td>1-2 Year</td>\n",
       "      <td>No</td>\n",
       "      <td>33536.0</td>\n",
       "      <td>26.0</td>\n",
       "      <td>183</td>\n",
       "      <td>0</td>\n",
       "    </tr>\n",
       "    <tr>\n",
       "      <th>2</th>\n",
       "      <td>3</td>\n",
       "      <td>Male</td>\n",
       "      <td>47</td>\n",
       "      <td>1</td>\n",
       "      <td>28.0</td>\n",
       "      <td>0</td>\n",
       "      <td>&gt; 2 Years</td>\n",
       "      <td>Yes</td>\n",
       "      <td>38294.0</td>\n",
       "      <td>26.0</td>\n",
       "      <td>27</td>\n",
       "      <td>1</td>\n",
       "    </tr>\n",
       "    <tr>\n",
       "      <th>3</th>\n",
       "      <td>4</td>\n",
       "      <td>Male</td>\n",
       "      <td>21</td>\n",
       "      <td>1</td>\n",
       "      <td>11.0</td>\n",
       "      <td>1</td>\n",
       "      <td>&lt; 1 Year</td>\n",
       "      <td>No</td>\n",
       "      <td>28619.0</td>\n",
       "      <td>152.0</td>\n",
       "      <td>203</td>\n",
       "      <td>0</td>\n",
       "    </tr>\n",
       "    <tr>\n",
       "      <th>4</th>\n",
       "      <td>5</td>\n",
       "      <td>Female</td>\n",
       "      <td>29</td>\n",
       "      <td>1</td>\n",
       "      <td>41.0</td>\n",
       "      <td>1</td>\n",
       "      <td>&lt; 1 Year</td>\n",
       "      <td>No</td>\n",
       "      <td>27496.0</td>\n",
       "      <td>152.0</td>\n",
       "      <td>39</td>\n",
       "      <td>0</td>\n",
       "    </tr>\n",
       "    <tr>\n",
       "      <th>5</th>\n",
       "      <td>6</td>\n",
       "      <td>Female</td>\n",
       "      <td>24</td>\n",
       "      <td>1</td>\n",
       "      <td>33.0</td>\n",
       "      <td>0</td>\n",
       "      <td>&lt; 1 Year</td>\n",
       "      <td>Yes</td>\n",
       "      <td>2630.0</td>\n",
       "      <td>160.0</td>\n",
       "      <td>176</td>\n",
       "      <td>0</td>\n",
       "    </tr>\n",
       "    <tr>\n",
       "      <th>6</th>\n",
       "      <td>7</td>\n",
       "      <td>Male</td>\n",
       "      <td>23</td>\n",
       "      <td>1</td>\n",
       "      <td>11.0</td>\n",
       "      <td>0</td>\n",
       "      <td>&lt; 1 Year</td>\n",
       "      <td>Yes</td>\n",
       "      <td>23367.0</td>\n",
       "      <td>152.0</td>\n",
       "      <td>249</td>\n",
       "      <td>0</td>\n",
       "    </tr>\n",
       "    <tr>\n",
       "      <th>7</th>\n",
       "      <td>8</td>\n",
       "      <td>Female</td>\n",
       "      <td>56</td>\n",
       "      <td>1</td>\n",
       "      <td>28.0</td>\n",
       "      <td>0</td>\n",
       "      <td>1-2 Year</td>\n",
       "      <td>Yes</td>\n",
       "      <td>32031.0</td>\n",
       "      <td>26.0</td>\n",
       "      <td>72</td>\n",
       "      <td>1</td>\n",
       "    </tr>\n",
       "    <tr>\n",
       "      <th>8</th>\n",
       "      <td>9</td>\n",
       "      <td>Female</td>\n",
       "      <td>24</td>\n",
       "      <td>1</td>\n",
       "      <td>3.0</td>\n",
       "      <td>1</td>\n",
       "      <td>&lt; 1 Year</td>\n",
       "      <td>No</td>\n",
       "      <td>27619.0</td>\n",
       "      <td>152.0</td>\n",
       "      <td>28</td>\n",
       "      <td>0</td>\n",
       "    </tr>\n",
       "    <tr>\n",
       "      <th>9</th>\n",
       "      <td>10</td>\n",
       "      <td>Female</td>\n",
       "      <td>32</td>\n",
       "      <td>1</td>\n",
       "      <td>6.0</td>\n",
       "      <td>1</td>\n",
       "      <td>&lt; 1 Year</td>\n",
       "      <td>No</td>\n",
       "      <td>28771.0</td>\n",
       "      <td>152.0</td>\n",
       "      <td>80</td>\n",
       "      <td>0</td>\n",
       "    </tr>\n",
       "  </tbody>\n",
       "</table>\n",
       "</div>"
      ],
      "text/plain": [
       "   id  Gender  Age  Driving_License  Region_Code  Previously_Insured  \\\n",
       "0   1    Male   44                1         28.0                   0   \n",
       "1   2    Male   76                1          3.0                   0   \n",
       "2   3    Male   47                1         28.0                   0   \n",
       "3   4    Male   21                1         11.0                   1   \n",
       "4   5  Female   29                1         41.0                   1   \n",
       "5   6  Female   24                1         33.0                   0   \n",
       "6   7    Male   23                1         11.0                   0   \n",
       "7   8  Female   56                1         28.0                   0   \n",
       "8   9  Female   24                1          3.0                   1   \n",
       "9  10  Female   32                1          6.0                   1   \n",
       "\n",
       "  Vehicle_Age Vehicle_Damage  Annual_Premium  Policy_Sales_Channel  Vintage  \\\n",
       "0   > 2 Years            Yes         40454.0                  26.0      217   \n",
       "1    1-2 Year             No         33536.0                  26.0      183   \n",
       "2   > 2 Years            Yes         38294.0                  26.0       27   \n",
       "3    < 1 Year             No         28619.0                 152.0      203   \n",
       "4    < 1 Year             No         27496.0                 152.0       39   \n",
       "5    < 1 Year            Yes          2630.0                 160.0      176   \n",
       "6    < 1 Year            Yes         23367.0                 152.0      249   \n",
       "7    1-2 Year            Yes         32031.0                  26.0       72   \n",
       "8    < 1 Year             No         27619.0                 152.0       28   \n",
       "9    < 1 Year             No         28771.0                 152.0       80   \n",
       "\n",
       "   Response  \n",
       "0         1  \n",
       "1         0  \n",
       "2         1  \n",
       "3         0  \n",
       "4         0  \n",
       "5         0  \n",
       "6         0  \n",
       "7         1  \n",
       "8         0  \n",
       "9         0  "
      ]
     },
     "execution_count": 3,
     "metadata": {},
     "output_type": "execute_result"
    }
   ],
   "source": [
    "# Examine the head of the training data\n",
    "cross_sell_df.head(10)"
   ]
  },
  {
   "cell_type": "markdown",
   "id": "representative-glory",
   "metadata": {},
   "source": [
    "We can see that the ID column is simply an index column for the different clients and will thus provide no predictive power to a model. Therefore, we drop it and continue by ensuring all variables have the correct encoding."
   ]
  },
  {
   "cell_type": "code",
   "execution_count": 4,
   "id": "related-albany",
   "metadata": {},
   "outputs": [],
   "source": [
    "# Drop the id column from the training set as it will be useless for propensity prediction\n",
    "cross_sell_df.drop('id', axis=1, inplace=True)\n",
    "\n",
    "# Code Region_Code and Policy_Sales_Channel as integer variables\n",
    "cross_sell_df[['Region_Code', 'Policy_Sales_Channel']] = cross_sell_df[['Region_Code', 'Policy_Sales_Channel']].astype('int')\n",
    "\n",
    "# Ensure all categorical and numeric variables are encoded correctly\n",
    "cross_sell_df[['Gender', 'Driving_License', 'Region_Code', 'Previously_Insured', 'Vehicle_Age', 'Vehicle_Damage', 'Policy_Sales_Channel']] = cross_sell_df[['Gender', 'Driving_License', 'Region_Code', 'Previously_Insured', 'Vehicle_Age', 'Vehicle_Damage', 'Policy_Sales_Channel']].astype('category')"
   ]
  },
  {
   "cell_type": "markdown",
   "id": "celtic-documentation",
   "metadata": {},
   "source": [
    "Next, we check for missing values."
   ]
  },
  {
   "cell_type": "code",
   "execution_count": 5,
   "id": "upset-inspiration",
   "metadata": {},
   "outputs": [
    {
     "data": {
      "text/plain": [
       "Gender                  0.0\n",
       "Age                     0.0\n",
       "Driving_License         0.0\n",
       "Region_Code             0.0\n",
       "Previously_Insured      0.0\n",
       "Vehicle_Age             0.0\n",
       "Vehicle_Damage          0.0\n",
       "Annual_Premium          0.0\n",
       "Policy_Sales_Channel    0.0\n",
       "Vintage                 0.0\n",
       "Response                0.0\n",
       "dtype: float64"
      ]
     },
     "execution_count": 5,
     "metadata": {},
     "output_type": "execute_result"
    }
   ],
   "source": [
    "# Determine the frequency of missing values per variable\n",
    "cross_sell_df.isnull().sum()/cross_sell_df.shape[0]"
   ]
  },
  {
   "cell_type": "markdown",
   "id": "charged-commission",
   "metadata": {},
   "source": [
    "Here, we see that no variables contain missing values. Let's move on to checking the distribution of our response variable."
   ]
  },
  {
   "cell_type": "code",
   "execution_count": 6,
   "id": "average-audio",
   "metadata": {},
   "outputs": [
    {
     "name": "stdout",
     "output_type": "stream",
     "text": [
      "Number of cases: 46710\n",
      "Number of controls: 334399\n",
      "Percentage of controls is: 0.12256336113815208\n"
     ]
    },
    {
     "data": {
      "image/png": "[encoded data removed]",
      "text/plain": [
       "<Figure size 360x360 with 1 Axes>"
      ]
     },
     "metadata": {
      "needs_background": "light"
     },
     "output_type": "display_data"
    }
   ],
   "source": [
    "# Examine the how the response is balanced\n",
    "sns.catplot(y=\"Response\",kind=\"count\",\n",
    "            palette=\"pastel\", edgecolor=\".6\",\n",
    "            data=cross_sell_df)\n",
    "\n",
    "# Determine the number of cases and controls respectively\n",
    "print('Number of cases:', cross_sell_df[cross_sell_df['Response'] == 1].shape[0])\n",
    "print('Number of controls:', cross_sell_df[cross_sell_df['Response'] == 0].shape[0])\n",
    "\n",
    "# Determine the percentage of cases (1's) in the training set\n",
    "case_perc = cross_sell_df[cross_sell_df['Response'] == 1].shape[0]/(cross_sell_df[cross_sell_df['Response'] == 0].shape[0] + cross_sell_df[cross_sell_df['Response'] == 1].shape[0])\n",
    "print('Percentage of controls is:', case_perc)"
   ]
  },
  {
   "cell_type": "markdown",
   "id": "continuing-survival",
   "metadata": {},
   "source": [
    "From the above, we see that approximatley 12% of the clients in the training set were labelled as interested in vehicle insurance. Unfortunatley, any model we try to build will learn disproportionately more from the uninterested clients than from the interested ones, and we will end up with a model that will perform poorly on interested clients (as there is proportionally far less information on them in the training set than the uninterested clients). This problem is known as class imbalance. In order to build a model that is able to identify interested clients with high accuracy (perhaps at the expense of mislabelling some uninteretsed clients as interested), we need to account for this class imbalance. The data we have on hand shoud dictate which method we use to account for the class imbalance. \n",
    "\n",
    "Since we have 334 399 controls and 46 710 cases in the training set, I will begin by using random downsampling of the majority class as a method to address the class imbalance issue. I will try to obtain 40% cases in the training set\n",
    "\n",
    "Another important point to raise is that of out-of-time (OOT) error estimation. If we artifically correct for the class imbalance issue (e.g. by randomly downsampling the majority class), we are creating an artificial environment that is different from what the model will see when in production. An out-of-time sample seeks to replicate production conditions, and obtaining the model's AUC on this set will give us an idea of how we can expect the model to perform in production. Therefore, I will split the training set into training, validation and out-of-time sets."
   ]
  },
  {
   "cell_type": "code",
   "execution_count": 7,
   "id": "severe-reasoning",
   "metadata": {},
   "outputs": [],
   "source": [
    "# Create the OOT sample, and training and validation samples\n",
    "response = cross_sell_df.pop('Response')\n",
    "X, X_oot, y, y_oot = train_test_split(cross_sell_df, response, test_size=0.1, random_state=1)"
   ]
  },
  {
   "cell_type": "code",
   "execution_count": 8,
   "id": "statutory-output",
   "metadata": {},
   "outputs": [
    {
     "name": "stdout",
     "output_type": "stream",
     "text": [
      "Percentage of controls is: 0.4\n"
     ]
    }
   ],
   "source": [
    "# Seperate the cases and controls\n",
    "df = pd.concat([X, y], axis=1)\n",
    "\n",
    "cases = df[y==1]\n",
    "controls = df[y==0]\n",
    "\n",
    "# Downsample the controls\n",
    "controls = controls.sample(n=63174, random_state=1)\n",
    "\n",
    "# Concatenate\n",
    "train = pd.concat([cases, controls], axis=0)\n",
    "y = train.pop('Response')\n",
    "\n",
    "# Calculate the percentage of cases in the training set\n",
    "case_perc = train[y == 1].shape[0]/(train[y == 0].shape[0] + train[y == 1].shape[0])\n",
    "print('Percentage of controls is:', case_perc)"
   ]
  },
  {
   "cell_type": "markdown",
   "id": "coordinate-filename",
   "metadata": {},
   "source": [
    "We have successfully downsampled to achieve 40% cases in the training set. Now, let's perform an exploratory data analysis on the training set features, starting with the categorical features. Let's take a look at Gender."
   ]
  },
  {
   "cell_type": "code",
   "execution_count": 9,
   "id": "interpreted-pakistan",
   "metadata": {},
   "outputs": [
    {
     "data": {
      "text/plain": [
       "232354      Male\n",
       "135162      Male\n",
       "226772      Male\n",
       "279125      Male\n",
       "153232      Male\n",
       "211760      Male\n",
       "94395       Male\n",
       "196238      Male\n",
       "183823    Female\n",
       "330230    Female\n",
       "Name: Gender, dtype: category\n",
       "Categories (2, object): ['Female', 'Male']"
      ]
     },
     "execution_count": 9,
     "metadata": {},
     "output_type": "execute_result"
    }
   ],
   "source": [
    "# Peak at the variable\n",
    "train['Gender'].head(10)"
   ]
  },
  {
   "cell_type": "code",
   "execution_count": 10,
   "id": "proved-andorra",
   "metadata": {},
   "outputs": [
    {
     "data": {
      "text/plain": [
       "<seaborn.axisgrid.FacetGrid at 0x1233d849a90>"
      ]
     },
     "execution_count": 10,
     "metadata": {},
     "output_type": "execute_result"
    },
    {
     "data": {
      "image/png": "[encoded data removed]",
      "text/plain": [
       "<Figure size 432.125x360 with 1 Axes>"
      ]
     },
     "metadata": {
      "needs_background": "light"
     },
     "output_type": "display_data"
    }
   ],
   "source": [
    "# Visualise the distribution of the input variable for each level of the response\n",
    "sns.catplot(y=\"Response\", hue='Gender', kind=\"count\",\n",
    "            palette=\"pastel\", edgecolor=\".6\",\n",
    "            data=pd.concat([train, y], axis=1))"
   ]
  },
  {
   "cell_type": "markdown",
   "id": "social-shopping",
   "metadata": {},
   "source": [
    "There seems to be a slight difference in the distribution of the Gender variable between the two levels of the response. We also see that there are more males than females in the training set. Let's move on to Driving_License."
   ]
  },
  {
   "cell_type": "code",
   "execution_count": 11,
   "id": "baking-memory",
   "metadata": {},
   "outputs": [
    {
     "data": {
      "text/plain": [
       "232354    1\n",
       "135162    1\n",
       "226772    1\n",
       "279125    1\n",
       "153232    1\n",
       "211760    1\n",
       "94395     1\n",
       "196238    1\n",
       "183823    1\n",
       "330230    1\n",
       "Name: Driving_License, dtype: category\n",
       "Categories (2, int64): [0, 1]"
      ]
     },
     "execution_count": 11,
     "metadata": {},
     "output_type": "execute_result"
    }
   ],
   "source": [
    "train['Driving_License'].head(10)"
   ]
  },
  {
   "cell_type": "code",
   "execution_count": 12,
   "id": "supported-quantity",
   "metadata": {},
   "outputs": [
    {
     "data": {
      "text/plain": [
       "<seaborn.axisgrid.FacetGrid at 0x1233d85e580>"
      ]
     },
     "execution_count": 12,
     "metadata": {},
     "output_type": "execute_result"
    },
    {
     "data": {
      "image/png": "[encoded data removed]",
      "text/plain": [
       "<Figure size 447x360 with 1 Axes>"
      ]
     },
     "metadata": {
      "needs_background": "light"
     },
     "output_type": "display_data"
    }
   ],
   "source": [
    "# Visualise the distribution of the input variable for each level of the response\n",
    "sns.catplot(y=\"Response\", hue='Driving_License', kind=\"count\",\n",
    "            palette=\"pastel\", edgecolor=\".6\",\n",
    "            data=pd.concat([train, y], axis=1))"
   ]
  },
  {
   "cell_type": "markdown",
   "id": "weighted-upset",
   "metadata": {},
   "source": [
    "This is concerning. We see that not a single observation in the training set does not have a drivers license. This immidiatley indicates that the Driving_License variable will contain no predictive power for any model we may choose to build. This fact will be confirmed later when we compute a concrete measure of predictive power using Weights of Evidence and Information Value. Let's move on to Region_Code."
   ]
  },
  {
   "cell_type": "code",
   "execution_count": 13,
   "id": "surface-hepatitis",
   "metadata": {},
   "outputs": [
    {
     "data": {
      "text/plain": [
       "232354    28\n",
       "135162    31\n",
       "226772    30\n",
       "279125    13\n",
       "153232    15\n",
       "211760    28\n",
       "94395     28\n",
       "196238     3\n",
       "183823    28\n",
       "330230    41\n",
       "Name: Region_Code, dtype: category\n",
       "Categories (53, int64): [0, 1, 2, 3, ..., 49, 50, 51, 52]"
      ]
     },
     "execution_count": 13,
     "metadata": {},
     "output_type": "execute_result"
    }
   ],
   "source": [
    "train['Region_Code'].head(10)"
   ]
  },
  {
   "cell_type": "markdown",
   "id": "searching-korea",
   "metadata": {},
   "source": [
    "We see that Region_Code has 53 levels which may make it challenging to visualise. However, it is important to confirm that the variable is adequatley balanced."
   ]
  },
  {
   "cell_type": "code",
   "execution_count": 14,
   "id": "fundamental-affiliate",
   "metadata": {},
   "outputs": [
    {
     "data": {
      "text/plain": [
       "<seaborn.axisgrid.FacetGrid at 0x123386fd4c0>"
      ]
     },
     "execution_count": 14,
     "metadata": {},
     "output_type": "execute_result"
    },
    {
     "data": {
      "image/png": "[encoded data removed]",
      "text/plain": [
       "<Figure size 360x360 with 1 Axes>"
      ]
     },
     "metadata": {
      "needs_background": "light"
     },
     "output_type": "display_data"
    }
   ],
   "source": [
    "# Visualise the distribution of the input variable for each level of the response\n",
    "sns.catplot(y='Region_Code', kind=\"count\",\n",
    "            palette=\"pastel\", edgecolor=\".6\",\n",
    "            data=pd.concat([train, y], axis=1))"
   ]
  },
  {
   "cell_type": "markdown",
   "id": "buried-usage",
   "metadata": {},
   "source": [
    "We see that Regions 8 and 28 dominate the training sample. It will be interesting to see if this variable ends up being predictive, but my intuition says not as there are a few dominating categories. Let's see the percentage of observations in each category."
   ]
  },
  {
   "cell_type": "code",
   "execution_count": 15,
   "id": "variable-potato",
   "metadata": {},
   "outputs": [
    {
     "data": {
      "text/plain": [
       "28    0.324960\n",
       "8     0.083427\n",
       "46    0.049340\n",
       "41    0.048181\n",
       "15    0.029927\n",
       "29    0.028654\n",
       "30    0.027486\n",
       "3     0.024960\n",
       "11    0.024228\n",
       "50    0.022291\n",
       "36    0.020087\n",
       "33    0.019100\n",
       "35    0.018131\n",
       "47    0.018055\n",
       "6     0.014674\n",
       "45    0.014446\n",
       "18    0.013733\n",
       "37    0.012850\n",
       "39    0.012033\n",
       "48    0.011416\n",
       "14    0.011407\n",
       "21    0.009783\n",
       "13    0.009783\n",
       "2     0.009213\n",
       "10    0.009146\n",
       "7     0.008928\n",
       "12    0.007541\n",
       "9     0.007408\n",
       "32    0.007095\n",
       "24    0.006582\n",
       "43    0.006458\n",
       "38    0.006297\n",
       "27    0.006287\n",
       "26    0.006116\n",
       "17    0.005955\n",
       "23    0.005746\n",
       "25    0.005252\n",
       "4     0.005072\n",
       "20    0.004939\n",
       "31    0.004749\n",
       "0     0.004682\n",
       "19    0.004473\n",
       "16    0.004464\n",
       "49    0.004369\n",
       "34    0.003733\n",
       "5     0.003410\n",
       "40    0.003324\n",
       "22    0.003011\n",
       "1     0.002488\n",
       "44    0.001691\n",
       "42    0.001377\n",
       "52    0.000712\n",
       "51    0.000532\n",
       "Name: Region_Code, dtype: float64"
      ]
     },
     "execution_count": 15,
     "metadata": {},
     "output_type": "execute_result"
    }
   ],
   "source": [
    "# Determine frequency distrubtion of Region_Code\n",
    "train['Region_Code'].value_counts()/train['Region_Code'].shape[0]"
   ]
  },
  {
   "cell_type": "markdown",
   "id": "great-audit",
   "metadata": {},
   "source": [
    "We see that Region 28 contains approximatley 32% of the observations in the training set. Let's move on to examining Previously_Insured."
   ]
  },
  {
   "cell_type": "code",
   "execution_count": 16,
   "id": "annoying-performance",
   "metadata": {},
   "outputs": [
    {
     "data": {
      "text/plain": [
       "232354    0\n",
       "135162    0\n",
       "226772    0\n",
       "279125    0\n",
       "153232    0\n",
       "211760    0\n",
       "94395     0\n",
       "196238    0\n",
       "183823    0\n",
       "330230    0\n",
       "Name: Previously_Insured, dtype: category\n",
       "Categories (2, int64): [0, 1]"
      ]
     },
     "execution_count": 16,
     "metadata": {},
     "output_type": "execute_result"
    }
   ],
   "source": [
    "# Peak at the variable\n",
    "train['Previously_Insured'].head(10)"
   ]
  },
  {
   "cell_type": "code",
   "execution_count": 17,
   "id": "deadly-facing",
   "metadata": {},
   "outputs": [
    {
     "data": {
      "text/plain": [
       "<seaborn.axisgrid.FacetGrid at 0x1233afbcca0>"
      ]
     },
     "execution_count": 17,
     "metadata": {},
     "output_type": "execute_result"
    },
    {
     "data": {
      "image/png": "[encoded data removed]",
      "text/plain": [
       "<Figure size 461.25x360 with 1 Axes>"
      ]
     },
     "metadata": {
      "needs_background": "light"
     },
     "output_type": "display_data"
    }
   ],
   "source": [
    "# Visualise the distribution of the input variable for each level of the response\n",
    "sns.catplot(y=\"Response\", hue='Previously_Insured', kind=\"count\",\n",
    "            palette=\"pastel\", edgecolor=\".6\",\n",
    "            data=pd.concat([train, y], axis=1))"
   ]
  },
  {
   "cell_type": "code",
   "execution_count": 18,
   "id": "sustained-philosophy",
   "metadata": {},
   "outputs": [
    {
     "data": {
      "text/plain": [
       "0    0.996486\n",
       "1    0.003514\n",
       "Name: Previously_Insured, dtype: float64"
      ]
     },
     "execution_count": 18,
     "metadata": {},
     "output_type": "execute_result"
    }
   ],
   "source": [
    "# Determine frequency distrubtion of Previously_Insured for interested clients\n",
    "train['Previously_Insured'][y==1].value_counts()/train['Previously_Insured'][y==1].shape[0]"
   ]
  },
  {
   "cell_type": "markdown",
   "id": "generous-serum",
   "metadata": {},
   "source": [
    "Again, extremely interesting. This plot, with the accompanying frequency distribution, is telling us that for those clients labeled as interested in vehicle insurance in the training set, almost none of them had been previously insured. I would expect this variable to have strong predictive power. Let's move on to examining Vehicle_Age."
   ]
  },
  {
   "cell_type": "code",
   "execution_count": 19,
   "id": "scenic-imagination",
   "metadata": {},
   "outputs": [
    {
     "data": {
      "text/plain": [
       "232354    < 1 Year\n",
       "135162    1-2 Year\n",
       "226772    1-2 Year\n",
       "279125    1-2 Year\n",
       "153232    1-2 Year\n",
       "211760    1-2 Year\n",
       "94395     1-2 Year\n",
       "196238    < 1 Year\n",
       "183823    < 1 Year\n",
       "330230    1-2 Year\n",
       "Name: Vehicle_Age, dtype: category\n",
       "Categories (3, object): ['1-2 Year', '< 1 Year', '> 2 Years']"
      ]
     },
     "execution_count": 19,
     "metadata": {},
     "output_type": "execute_result"
    }
   ],
   "source": [
    "# Peak at the variable\n",
    "train['Vehicle_Age'].head(10)"
   ]
  },
  {
   "cell_type": "code",
   "execution_count": 20,
   "id": "valuable-marketing",
   "metadata": {},
   "outputs": [
    {
     "data": {
      "text/plain": [
       "<seaborn.axisgrid.FacetGrid at 0x12339db2430>"
      ]
     },
     "execution_count": 20,
     "metadata": {},
     "output_type": "execute_result"
    },
    {
     "data": {
      "image/png": "[encoded data removed]",
      "text/plain": [
       "<Figure size 443.125x360 with 1 Axes>"
      ]
     },
     "metadata": {
      "needs_background": "light"
     },
     "output_type": "display_data"
    }
   ],
   "source": [
    "# Visualise the distribution of the input variable for each level of the response\n",
    "sns.catplot(y=\"Response\", hue='Vehicle_Age', kind=\"count\",\n",
    "            palette=\"pastel\", edgecolor=\".6\",\n",
    "            data=pd.concat([train, y], axis=1))"
   ]
  },
  {
   "cell_type": "markdown",
   "id": "comfortable-richards",
   "metadata": {},
   "source": [
    "Most interestingly, clients with vehicles less than a year old are far less likely to be interested in vehicle insurance. Let's analyse Vehicle_Damage."
   ]
  },
  {
   "cell_type": "code",
   "execution_count": 21,
   "id": "transparent-livestock",
   "metadata": {},
   "outputs": [
    {
     "data": {
      "text/plain": [
       "232354    Yes\n",
       "135162    Yes\n",
       "226772    Yes\n",
       "279125    Yes\n",
       "153232    Yes\n",
       "211760    Yes\n",
       "94395     Yes\n",
       "196238    Yes\n",
       "183823    Yes\n",
       "330230    Yes\n",
       "Name: Vehicle_Damage, dtype: category\n",
       "Categories (2, object): ['No', 'Yes']"
      ]
     },
     "execution_count": 21,
     "metadata": {},
     "output_type": "execute_result"
    }
   ],
   "source": [
    "# Peak at the variable\n",
    "train['Vehicle_Damage'].head(10)"
   ]
  },
  {
   "cell_type": "code",
   "execution_count": 22,
   "id": "demographic-breed",
   "metadata": {
    "scrolled": true
   },
   "outputs": [
    {
     "data": {
      "text/plain": [
       "<seaborn.axisgrid.FacetGrid at 0x1233af95fd0>"
      ]
     },
     "execution_count": 22,
     "metadata": {},
     "output_type": "execute_result"
    },
    {
     "data": {
      "image/png": "[encoded data removed]",
      "text/plain": [
       "<Figure size 451.125x360 with 1 Axes>"
      ]
     },
     "metadata": {
      "needs_background": "light"
     },
     "output_type": "display_data"
    }
   ],
   "source": [
    "# Visualise the distribution of the input variable for each level of the response\n",
    "sns.catplot(y=\"Response\", hue='Vehicle_Damage', kind=\"count\",\n",
    "            palette=\"pastel\", edgecolor=\".6\",\n",
    "            data=pd.concat([train, y], axis=1))"
   ]
  },
  {
   "cell_type": "markdown",
   "id": "described-manual",
   "metadata": {},
   "source": [
    "Perhaps unsurprisingly, clients who are interested in vehicle insurance are far more likely to have had vehicle damage in the past than not. This could be because they have had experience with how much it truly costs to fix vehicle damage, and are thus far more likely to pay a premium for the transfer of that risk. I think this variable will contribute predictive power. Let's examine our last categorical feature, Policy_Sales_Channel."
   ]
  },
  {
   "cell_type": "code",
   "execution_count": 23,
   "id": "administrative-haven",
   "metadata": {},
   "outputs": [
    {
     "data": {
      "text/plain": [
       "232354    124\n",
       "135162    124\n",
       "226772      4\n",
       "279125     26\n",
       "153232    124\n",
       "211760     26\n",
       "94395     124\n",
       "196238    163\n",
       "183823    152\n",
       "330230    124\n",
       "Name: Policy_Sales_Channel, dtype: category\n",
       "Categories (155, int64): [1, 2, 3, 4, ..., 158, 159, 160, 163]"
      ]
     },
     "execution_count": 23,
     "metadata": {},
     "output_type": "execute_result"
    }
   ],
   "source": [
    "# Peak at the variable\n",
    "train['Policy_Sales_Channel'].head(10)"
   ]
  },
  {
   "cell_type": "markdown",
   "id": "unlike-heavy",
   "metadata": {},
   "source": [
    "This variable has 163 categories making it near impossible to extract meaningful insights from a visualisation of the full variable. Let's check the frequency distribution of the variable."
   ]
  },
  {
   "cell_type": "code",
   "execution_count": 24,
   "id": "chicken-sheet",
   "metadata": {},
   "outputs": [
    {
     "data": {
      "text/plain": [
       "152    0.266996\n",
       "26     0.250869\n",
       "124    0.228664\n",
       "160    0.042046\n",
       "156    0.034286\n",
       "122    0.029775\n",
       "157    0.024105\n",
       "154    0.020790\n",
       "163    0.011169\n",
       "151    0.008063\n",
       "Name: Policy_Sales_Channel, dtype: float64"
      ]
     },
     "execution_count": 24,
     "metadata": {},
     "output_type": "execute_result"
    }
   ],
   "source": [
    "# Determine frequency distrubtion of Policy_Sales_Channel\n",
    "(train['Policy_Sales_Channel'].value_counts()/train['Policy_Sales_Channel'].shape[0])[:10]"
   ]
  },
  {
   "cell_type": "markdown",
   "id": "manufactured-nudist",
   "metadata": {},
   "source": [
    "We see that channels 152, 26, and 124 contain approximatley 75% of the observations in the training set. One strategy here may be to group the remaining categories into an 'Other' category. Let's note this as something that could lead to an increase in validation AUC and move on to the numeric features, beginning with Age."
   ]
  },
  {
   "cell_type": "code",
   "execution_count": 25,
   "id": "searching-tongue",
   "metadata": {},
   "outputs": [
    {
     "data": {
      "text/plain": [
       "count    105290.000000\n",
       "mean         40.311008\n",
       "std          14.697755\n",
       "min          20.000000\n",
       "25%          26.000000\n",
       "50%          40.000000\n",
       "75%          50.000000\n",
       "max          85.000000\n",
       "Name: Age, dtype: float64"
      ]
     },
     "execution_count": 25,
     "metadata": {},
     "output_type": "execute_result"
    }
   ],
   "source": [
    "# View some summary stats of variable\n",
    "train['Age'].describe()"
   ]
  },
  {
   "cell_type": "code",
   "execution_count": 26,
   "id": "brown-indie",
   "metadata": {},
   "outputs": [
    {
     "data": {
      "text/plain": [
       "<seaborn.axisgrid.FacetGrid at 0x12339de88e0>"
      ]
     },
     "execution_count": 26,
     "metadata": {},
     "output_type": "execute_result"
    },
    {
     "data": {
      "image/png": "[encoded data removed]",
      "text/plain": [
       "<Figure size 415.75x360 with 1 Axes>"
      ]
     },
     "metadata": {
      "needs_background": "light"
     },
     "output_type": "display_data"
    }
   ],
   "source": [
    "sns.displot(pd.concat([train, y], axis=1), x=\"Age\", hue=\"Response\")"
   ]
  },
  {
   "cell_type": "code",
   "execution_count": 27,
   "id": "capable-maryland",
   "metadata": {
    "scrolled": true
   },
   "outputs": [
    {
     "data": {
      "text/plain": [
       "count    42116.000000\n",
       "mean        43.448214\n",
       "std         12.166253\n",
       "min         20.000000\n",
       "25%         35.000000\n",
       "50%         43.000000\n",
       "75%         51.000000\n",
       "max         83.000000\n",
       "Name: Age, dtype: float64"
      ]
     },
     "execution_count": 27,
     "metadata": {},
     "output_type": "execute_result"
    }
   ],
   "source": [
    "train['Age'][y==1].describe()"
   ]
  },
  {
   "cell_type": "code",
   "execution_count": 28,
   "id": "active-classification",
   "metadata": {},
   "outputs": [
    {
     "data": {
      "text/plain": [
       "count    63174.000000\n",
       "mean        38.219537\n",
       "std         15.824942\n",
       "min         20.000000\n",
       "25%         24.000000\n",
       "50%         34.000000\n",
       "75%         49.000000\n",
       "max         85.000000\n",
       "Name: Age, dtype: float64"
      ]
     },
     "execution_count": 28,
     "metadata": {},
     "output_type": "execute_result"
    }
   ],
   "source": [
    "train['Age'][y==0].describe()"
   ]
  },
  {
   "cell_type": "markdown",
   "id": "alleged-storm",
   "metadata": {},
   "source": [
    "Here is an interesting visualisation. We see that clients younger than appoximatley 30 years old are far more likely to be uninterested in vehicle insurance. This may be because younger clients are usually calculated to be a higher risk, and will thus be charged higher premiums. We also see that the peak of the histogram for interested clients is around 45 years. I think this variable will be useful in predicting propensity for vehicle insurance as the two distributions are different from one another. Let's go on to analyse 'Annual_Premium'."
   ]
  },
  {
   "cell_type": "code",
   "execution_count": 29,
   "id": "worthy-first",
   "metadata": {},
   "outputs": [
    {
     "data": {
      "text/plain": [
       "count    105290.000000\n",
       "mean      30936.625017\n",
       "std       17643.130567\n",
       "min        2630.000000\n",
       "25%       24579.000000\n",
       "50%       32085.500000\n",
       "75%       40052.000000\n",
       "max      540165.000000\n",
       "Name: Annual_Premium, dtype: float64"
      ]
     },
     "execution_count": 29,
     "metadata": {},
     "output_type": "execute_result"
    }
   ],
   "source": [
    "# View some summary stats of variable\n",
    "train['Annual_Premium'].describe()"
   ]
  },
  {
   "cell_type": "code",
   "execution_count": 30,
   "id": "tired-running",
   "metadata": {},
   "outputs": [
    {
     "data": {
      "text/plain": [
       "<seaborn.axisgrid.FacetGrid at 0x123387541c0>"
      ]
     },
     "execution_count": 30,
     "metadata": {},
     "output_type": "execute_result"
    },
    {
     "data": {
      "image/png": "[encoded data removed]",
      "text/plain": [
       "<Figure size 415.75x360 with 1 Axes>"
      ]
     },
     "metadata": {
      "needs_background": "light"
     },
     "output_type": "display_data"
    }
   ],
   "source": [
    "sns.displot(pd.concat([train, y], axis=1), x=\"Annual_Premium\", hue=\"Response\")"
   ]
  },
  {
   "cell_type": "code",
   "execution_count": 31,
   "id": "rapid-upper",
   "metadata": {},
   "outputs": [
    {
     "data": {
      "text/html": [
       "<div>\n",
       "<style scoped>\n",
       "    .dataframe tbody tr th:only-of-type {\n",
       "        vertical-align: middle;\n",
       "    }\n",
       "\n",
       "    .dataframe tbody tr th {\n",
       "        vertical-align: top;\n",
       "    }\n",
       "\n",
       "    .dataframe thead th {\n",
       "        text-align: right;\n",
       "    }\n",
       "</style>\n",
       "<table border=\"1\" class=\"dataframe\">\n",
       "  <thead>\n",
       "    <tr style=\"text-align: right;\">\n",
       "      <th></th>\n",
       "      <th>Gender</th>\n",
       "      <th>Age</th>\n",
       "      <th>Driving_License</th>\n",
       "      <th>Region_Code</th>\n",
       "      <th>Previously_Insured</th>\n",
       "      <th>Vehicle_Age</th>\n",
       "      <th>Vehicle_Damage</th>\n",
       "      <th>Annual_Premium</th>\n",
       "      <th>Policy_Sales_Channel</th>\n",
       "      <th>Vintage</th>\n",
       "    </tr>\n",
       "  </thead>\n",
       "  <tbody>\n",
       "    <tr>\n",
       "      <th>135162</th>\n",
       "      <td>Male</td>\n",
       "      <td>39</td>\n",
       "      <td>1</td>\n",
       "      <td>31</td>\n",
       "      <td>0</td>\n",
       "      <td>1-2 Year</td>\n",
       "      <td>Yes</td>\n",
       "      <td>2630.0</td>\n",
       "      <td>124</td>\n",
       "      <td>254</td>\n",
       "    </tr>\n",
       "    <tr>\n",
       "      <th>978</th>\n",
       "      <td>Female</td>\n",
       "      <td>33</td>\n",
       "      <td>1</td>\n",
       "      <td>46</td>\n",
       "      <td>0</td>\n",
       "      <td>1-2 Year</td>\n",
       "      <td>Yes</td>\n",
       "      <td>2630.0</td>\n",
       "      <td>156</td>\n",
       "      <td>116</td>\n",
       "    </tr>\n",
       "    <tr>\n",
       "      <th>15456</th>\n",
       "      <td>Male</td>\n",
       "      <td>25</td>\n",
       "      <td>1</td>\n",
       "      <td>35</td>\n",
       "      <td>1</td>\n",
       "      <td>&lt; 1 Year</td>\n",
       "      <td>No</td>\n",
       "      <td>2630.0</td>\n",
       "      <td>152</td>\n",
       "      <td>99</td>\n",
       "    </tr>\n",
       "    <tr>\n",
       "      <th>146514</th>\n",
       "      <td>Female</td>\n",
       "      <td>35</td>\n",
       "      <td>1</td>\n",
       "      <td>50</td>\n",
       "      <td>0</td>\n",
       "      <td>1-2 Year</td>\n",
       "      <td>Yes</td>\n",
       "      <td>2630.0</td>\n",
       "      <td>157</td>\n",
       "      <td>63</td>\n",
       "    </tr>\n",
       "    <tr>\n",
       "      <th>164881</th>\n",
       "      <td>Male</td>\n",
       "      <td>63</td>\n",
       "      <td>1</td>\n",
       "      <td>28</td>\n",
       "      <td>0</td>\n",
       "      <td>1-2 Year</td>\n",
       "      <td>Yes</td>\n",
       "      <td>2630.0</td>\n",
       "      <td>26</td>\n",
       "      <td>232</td>\n",
       "    </tr>\n",
       "    <tr>\n",
       "      <th>...</th>\n",
       "      <td>...</td>\n",
       "      <td>...</td>\n",
       "      <td>...</td>\n",
       "      <td>...</td>\n",
       "      <td>...</td>\n",
       "      <td>...</td>\n",
       "      <td>...</td>\n",
       "      <td>...</td>\n",
       "      <td>...</td>\n",
       "      <td>...</td>\n",
       "    </tr>\n",
       "    <tr>\n",
       "      <th>228432</th>\n",
       "      <td>Female</td>\n",
       "      <td>45</td>\n",
       "      <td>1</td>\n",
       "      <td>28</td>\n",
       "      <td>0</td>\n",
       "      <td>1-2 Year</td>\n",
       "      <td>No</td>\n",
       "      <td>2630.0</td>\n",
       "      <td>156</td>\n",
       "      <td>243</td>\n",
       "    </tr>\n",
       "    <tr>\n",
       "      <th>126828</th>\n",
       "      <td>Male</td>\n",
       "      <td>48</td>\n",
       "      <td>1</td>\n",
       "      <td>46</td>\n",
       "      <td>0</td>\n",
       "      <td>1-2 Year</td>\n",
       "      <td>Yes</td>\n",
       "      <td>2630.0</td>\n",
       "      <td>11</td>\n",
       "      <td>266</td>\n",
       "    </tr>\n",
       "    <tr>\n",
       "      <th>68101</th>\n",
       "      <td>Female</td>\n",
       "      <td>37</td>\n",
       "      <td>1</td>\n",
       "      <td>9</td>\n",
       "      <td>0</td>\n",
       "      <td>1-2 Year</td>\n",
       "      <td>Yes</td>\n",
       "      <td>2630.0</td>\n",
       "      <td>157</td>\n",
       "      <td>269</td>\n",
       "    </tr>\n",
       "    <tr>\n",
       "      <th>134547</th>\n",
       "      <td>Female</td>\n",
       "      <td>24</td>\n",
       "      <td>1</td>\n",
       "      <td>14</td>\n",
       "      <td>1</td>\n",
       "      <td>&lt; 1 Year</td>\n",
       "      <td>No</td>\n",
       "      <td>2630.0</td>\n",
       "      <td>152</td>\n",
       "      <td>16</td>\n",
       "    </tr>\n",
       "    <tr>\n",
       "      <th>35886</th>\n",
       "      <td>Male</td>\n",
       "      <td>77</td>\n",
       "      <td>1</td>\n",
       "      <td>35</td>\n",
       "      <td>0</td>\n",
       "      <td>1-2 Year</td>\n",
       "      <td>Yes</td>\n",
       "      <td>2630.0</td>\n",
       "      <td>3</td>\n",
       "      <td>57</td>\n",
       "    </tr>\n",
       "  </tbody>\n",
       "</table>\n",
       "<p>18116 rows × 10 columns</p>\n",
       "</div>"
      ],
      "text/plain": [
       "        Gender  Age Driving_License Region_Code Previously_Insured  \\\n",
       "135162    Male   39               1          31                  0   \n",
       "978     Female   33               1          46                  0   \n",
       "15456     Male   25               1          35                  1   \n",
       "146514  Female   35               1          50                  0   \n",
       "164881    Male   63               1          28                  0   \n",
       "...        ...  ...             ...         ...                ...   \n",
       "228432  Female   45               1          28                  0   \n",
       "126828    Male   48               1          46                  0   \n",
       "68101   Female   37               1           9                  0   \n",
       "134547  Female   24               1          14                  1   \n",
       "35886     Male   77               1          35                  0   \n",
       "\n",
       "       Vehicle_Age Vehicle_Damage  Annual_Premium Policy_Sales_Channel  \\\n",
       "135162    1-2 Year            Yes          2630.0                  124   \n",
       "978       1-2 Year            Yes          2630.0                  156   \n",
       "15456     < 1 Year             No          2630.0                  152   \n",
       "146514    1-2 Year            Yes          2630.0                  157   \n",
       "164881    1-2 Year            Yes          2630.0                   26   \n",
       "...            ...            ...             ...                  ...   \n",
       "228432    1-2 Year             No          2630.0                  156   \n",
       "126828    1-2 Year            Yes          2630.0                   11   \n",
       "68101     1-2 Year            Yes          2630.0                  157   \n",
       "134547    < 1 Year             No          2630.0                  152   \n",
       "35886     1-2 Year            Yes          2630.0                    3   \n",
       "\n",
       "        Vintage  \n",
       "135162      254  \n",
       "978         116  \n",
       "15456        99  \n",
       "146514       63  \n",
       "164881      232  \n",
       "...         ...  \n",
       "228432      243  \n",
       "126828      266  \n",
       "68101       269  \n",
       "134547       16  \n",
       "35886        57  \n",
       "\n",
       "[18116 rows x 10 columns]"
      ]
     },
     "execution_count": 31,
     "metadata": {},
     "output_type": "execute_result"
    }
   ],
   "source": [
    "train[train['Annual_Premium'] <= 2630]"
   ]
  },
  {
   "cell_type": "markdown",
   "id": "necessary-deputy",
   "metadata": {},
   "source": [
    "After a bit of digging, I found that 18116 clients (out of 105 290) have the minimum annual premium of Rs. 2630. All other clients have a significantly higher premium. This could be because this price point is a special product that many clients are purchasing. "
   ]
  },
  {
   "cell_type": "code",
   "execution_count": 32,
   "id": "powerful-strike",
   "metadata": {
    "scrolled": false
   },
   "outputs": [
    {
     "data": {
      "text/plain": [
       "<seaborn.axisgrid.FacetGrid at 0x1233af7a160>"
      ]
     },
     "execution_count": 32,
     "metadata": {},
     "output_type": "execute_result"
    },
    {
     "data": {
      "image/png": "[encoded data removed]",
      "text/plain": [
       "<Figure size 360x360 with 1 Axes>"
      ]
     },
     "metadata": {
      "needs_background": "light"
     },
     "output_type": "display_data"
    }
   ],
   "source": [
    "# Examine the distribution of the response for clients with an Annual_Premium of Rs. 2630\n",
    "sns.catplot(y=\"Response\", kind=\"count\",\n",
    "            palette=\"pastel\", edgecolor=\".6\",\n",
    "            data=pd.concat([train, y], axis=1)[pd.concat([train, y], axis=1)[\"Annual_Premium\"] == 2630])"
   ]
  },
  {
   "cell_type": "markdown",
   "id": "varied-context",
   "metadata": {},
   "source": [
    "We see that the distribution of the response is fairly evenly distributed for clients paying an Annual_Premium of Rs. 2630."
   ]
  },
  {
   "cell_type": "code",
   "execution_count": 33,
   "id": "faced-patio",
   "metadata": {},
   "outputs": [
    {
     "data": {
      "text/plain": [
       "<seaborn.axisgrid.FacetGrid at 0x1233841af40>"
      ]
     },
     "execution_count": 33,
     "metadata": {},
     "output_type": "execute_result"
    },
    {
     "data": {
      "image/png": "[encoded data removed]",
      "text/plain": [
       "<Figure size 415.75x360 with 1 Axes>"
      ]
     },
     "metadata": {
      "needs_background": "light"
     },
     "output_type": "display_data"
    }
   ],
   "source": [
    "# Examine the distribution of Annual_Premium for the other clients\n",
    "sns.displot(pd.concat([train, y], axis=1)[(pd.concat([train, y], axis=1)[\"Annual_Premium\"] > 2630) & (pd.concat([train, y], axis=1)[\"Annual_Premium\"] < 100000)], x=\"Annual_Premium\", hue=\"Response\")"
   ]
  },
  {
   "cell_type": "markdown",
   "id": "sophisticated-spoke",
   "metadata": {},
   "source": [
    "Due to the presence of some gross outliers, I plot the ditribution of Annual_Premium for Annual_Premium less than Rs. 100 000 and greater than Rs. 2630. We see that of these clients, the distribution of this variable is similar in shape for the two levels of the response, indicating that uninterested and interested clients with an Annual_Premium less than Rs. 100 000 and greater than Rs. 2630 have a similar premium distribution. "
   ]
  },
  {
   "cell_type": "code",
   "execution_count": 34,
   "id": "romantic-virtue",
   "metadata": {},
   "outputs": [
    {
     "data": {
      "text/plain": [
       "count    105290.000000\n",
       "mean        154.267005\n",
       "std          83.711296\n",
       "min          10.000000\n",
       "25%          82.000000\n",
       "50%         154.000000\n",
       "75%         227.000000\n",
       "max         299.000000\n",
       "Name: Vintage, dtype: float64"
      ]
     },
     "execution_count": 34,
     "metadata": {},
     "output_type": "execute_result"
    }
   ],
   "source": [
    "# View some summary stats of variable\n",
    "train['Vintage'].describe()"
   ]
  },
  {
   "cell_type": "code",
   "execution_count": 35,
   "id": "electoral-boring",
   "metadata": {},
   "outputs": [
    {
     "data": {
      "text/plain": [
       "<seaborn.axisgrid.FacetGrid at 0x12344b71cd0>"
      ]
     },
     "execution_count": 35,
     "metadata": {},
     "output_type": "execute_result"
    },
    {
     "data": {
      "image/png": "[encoded data removed]",
      "text/plain": [
       "<Figure size 415.75x360 with 1 Axes>"
      ]
     },
     "metadata": {
      "needs_background": "light"
     },
     "output_type": "display_data"
    }
   ],
   "source": [
    "sns.displot(pd.concat([train, y], axis=1), x=\"Vintage\", hue=\"Response\")"
   ]
  },
  {
   "cell_type": "markdown",
   "id": "amateur-clause",
   "metadata": {},
   "source": [
    "This visualisation shows that at every Vintage, customers are more likely to be uninterested in vehicle insurance than interested. This is not a particularly useful result so I believe this variable will not be very useful in predicting insurance propensity.\n",
    "\n",
    "Finally, let's examine the correlation matrix of the numeric predictors."
   ]
  },
  {
   "cell_type": "code",
   "execution_count": 36,
   "id": "waiting-closing",
   "metadata": {},
   "outputs": [
    {
     "data": {
      "text/html": [
       "<div>\n",
       "<style scoped>\n",
       "    .dataframe tbody tr th:only-of-type {\n",
       "        vertical-align: middle;\n",
       "    }\n",
       "\n",
       "    .dataframe tbody tr th {\n",
       "        vertical-align: top;\n",
       "    }\n",
       "\n",
       "    .dataframe thead th {\n",
       "        text-align: right;\n",
       "    }\n",
       "</style>\n",
       "<table border=\"1\" class=\"dataframe\">\n",
       "  <thead>\n",
       "    <tr style=\"text-align: right;\">\n",
       "      <th></th>\n",
       "      <th>Age</th>\n",
       "      <th>Annual_Premium</th>\n",
       "      <th>Vintage</th>\n",
       "    </tr>\n",
       "  </thead>\n",
       "  <tbody>\n",
       "    <tr>\n",
       "      <th>Age</th>\n",
       "      <td>1.000000</td>\n",
       "      <td>0.086972</td>\n",
       "      <td>0.000809</td>\n",
       "    </tr>\n",
       "    <tr>\n",
       "      <th>Annual_Premium</th>\n",
       "      <td>0.086972</td>\n",
       "      <td>1.000000</td>\n",
       "      <td>0.000761</td>\n",
       "    </tr>\n",
       "    <tr>\n",
       "      <th>Vintage</th>\n",
       "      <td>0.000809</td>\n",
       "      <td>0.000761</td>\n",
       "      <td>1.000000</td>\n",
       "    </tr>\n",
       "  </tbody>\n",
       "</table>\n",
       "</div>"
      ],
      "text/plain": [
       "                     Age  Annual_Premium   Vintage\n",
       "Age             1.000000        0.086972  0.000809\n",
       "Annual_Premium  0.086972        1.000000  0.000761\n",
       "Vintage         0.000809        0.000761  1.000000"
      ]
     },
     "execution_count": 36,
     "metadata": {},
     "output_type": "execute_result"
    }
   ],
   "source": [
    "train[['Age', 'Annual_Premium', 'Vintage']].corr()"
   ]
  },
  {
   "cell_type": "markdown",
   "id": "worthy-richmond",
   "metadata": {},
   "source": [
    "This is assuring. No numeric variables are substantially correlated with one another. Now, let's have a look at the information value of the categorical variables."
   ]
  },
  {
   "cell_type": "code",
   "execution_count": 37,
   "id": "secure-discussion",
   "metadata": {},
   "outputs": [],
   "source": [
    "# Obtain the numerical representations of the categorical variables\n",
    "cats = ['Gender', 'Driving_License', 'Region_Code', 'Previously_Insured',\n",
    "       'Vehicle_Age', 'Vehicle_Damage', 'Policy_Sales_Channel']\n",
    "for i in range(len(cats)):\n",
    "   train[cats[i]] = train[cats[i]].cat.codes"
   ]
  },
  {
   "cell_type": "code",
   "execution_count": 38,
   "id": "solid-intention",
   "metadata": {},
   "outputs": [],
   "source": [
    "def iv_woe(data, target, cont_vars, bins=10, show_woe=False):\n",
    "    \"\"\"\n",
    "    This function calculates the WoE and IV for each independnent variable in \n",
    "    data (categorical and continuous).\n",
    "\n",
    "    Parameters\n",
    "    ----------\n",
    "    data : pandas DataFrame\n",
    "        The dataset that will be used for machine learning (should include the target)\n",
    "    target : string\n",
    "        The name of the target variable.\n",
    "    cont_vars : list\n",
    "        A list of the continuous variables\n",
    "    bins : int, optional\n",
    "        The number of bins that continuoes variables should be split into. The default is 10.\n",
    "    show_woe : boolean, optional\n",
    "        Display the WoE dataframe. The default is False.\n",
    "\n",
    "    Returns\n",
    "    -------\n",
    "    newDF : pandas DataFrame\n",
    "        DataFrame containing the IV values per variable.\n",
    "    woeDF : pandas DataFrame\n",
    "        DataFrame containing the WoE values for each variable.\n",
    "\n",
    "    \"\"\"\n",
    "    \n",
    "    #Empty Dataframe\n",
    "    newDF,woeDF = pd.DataFrame(), pd.DataFrame()\n",
    "    \n",
    "    #Extract Column Names\n",
    "    cols = data.columns\n",
    "    \n",
    "    #Run WOE and IV on all the independent variables\n",
    "    for ivars in cols[~cols.isin([target])]:\n",
    "        \n",
    "        # Check if the independent variable is continuous.\n",
    "        if (ivars in cont_vars):\n",
    "            \n",
    "            # Bin the continuous variable according to the bins argument\n",
    "            binned_x = pd.qcut(data[ivars], bins,  duplicates='drop')\n",
    "            \n",
    "            # Append the response value to the binned version of x\n",
    "            d0 = pd.DataFrame({'x': binned_x, 'y': data[target]})\n",
    "            \n",
    "        else: \n",
    "            \n",
    "            # Treat the variable as categorical\n",
    "            d0 = pd.DataFrame({'x': data[ivars], 'y': data[target]})\n",
    "        \n",
    "        # Aggregate the response by count and sum per independent variable\n",
    "        d = d0.groupby(\"x\", as_index=False).agg({\"y\": [\"count\", \"sum\"]})\n",
    "        d.columns = ['Cutoff', 'N', 'Events']\n",
    "        \n",
    "        # Calculate the percentage of events in each group\n",
    "        d['% of Events'] = np.maximum(d['Events'], 0.5) / d['Events'].sum()\n",
    "        \n",
    "        # Calculate the percentage of non-events in each group\n",
    "        d['Non-Events'] = d['N'] - d['Events']\n",
    "        d['% of Non-Events'] = np.maximum(d['Non-Events'], 0.5) / d['Non-Events'].sum()\n",
    "        \n",
    "        # Calculate WoE per category/bin\n",
    "        d['WoE'] = np.log(d['% of Non-Events']/d['% of Events'])\n",
    "        \n",
    "        # Calculate information value and print it out\n",
    "        d['IV'] = d['WoE'] * (d['% of Non-Events'] - d['% of Events'])\n",
    "        d.insert(loc=0, column='Variable', value=ivars)\n",
    "        print(\"Information value of \" + ivars + \" is \" + str(round(d['IV'].sum(),6)))\n",
    "        \n",
    "        # Compose the WoE and IV tables\n",
    "        temp =pd.DataFrame({\"Variable\" : [ivars], \"IV\" : [d['IV'].sum()]}, columns = [\"Variable\", \"IV\"])\n",
    "        newDF=pd.concat([newDF,temp], axis=0)\n",
    "        woeDF=pd.concat([woeDF,d], axis=0)\n",
    "\n",
    "        #Show WOE Table\n",
    "        if show_woe == True:\n",
    "            print(d)\n",
    "            \n",
    "    return newDF, woeDF"
   ]
  },
  {
   "cell_type": "code",
   "execution_count": 39,
   "id": "looking-modeling",
   "metadata": {},
   "outputs": [
    {
     "name": "stdout",
     "output_type": "stream",
     "text": [
      "Information value of Gender is 0.024667\n",
      "Information value of Age is 0.592401\n",
      "Information value of Driving_License is 0.001264\n",
      "Information value of Region_Code is 0.178313\n",
      "Information value of Previously_Insured is 2.996098\n",
      "Information value of Vehicle_Age is 0.524666\n",
      "Information value of Vehicle_Damage is 2.215981\n",
      "Information value of Annual_Premium is 0.026107\n",
      "Information value of Policy_Sales_Channel is 0.842605\n",
      "Information value of Vintage is 0.000374\n"
     ]
    }
   ],
   "source": [
    "iv, woe = iv_woe(pd.concat([train, y], axis=1), 'Response', cont_vars=['Age', 'Annual_Premium', 'Vintage'], bins=10, show_woe=False)"
   ]
  },
  {
   "cell_type": "markdown",
   "id": "settled-friendship",
   "metadata": {},
   "source": [
    "Of the categorical variables, Vehicle_Age and Region_Code are strong predictors of insurance propensity by information value. We also see that Previously_Insured, Vehicle_Damage, and Policy_Sales_Channel have suspicioulsy high information values (>0.5). This may be indicative of data leakage. If we look back at the EDA we performed on these variables, we found plausable reasons to explain why the distributions of these variables looked so different for the two levels of the response. Usually, I would try and fit a model without these suspiciously strong predictors as I am weary of data leakage possibilities, but since this is a Kaggle competition and we are only interested in high AUC, I will keep them.\n",
    "\n",
    "As expected, Driving_License has very low information value and should be dropped from further analysis."
   ]
  },
  {
   "cell_type": "code",
   "execution_count": 40,
   "id": "respiratory-honor",
   "metadata": {},
   "outputs": [],
   "source": [
    "train.drop('Driving_License', axis=1, inplace=True)"
   ]
  },
  {
   "cell_type": "markdown",
   "id": "southeast-carbon",
   "metadata": {},
   "source": [
    "Let's go on to contructing the training and validation sets."
   ]
  },
  {
   "cell_type": "code",
   "execution_count": 41,
   "id": "higher-possession",
   "metadata": {},
   "outputs": [],
   "source": [
    "# Create the training and validation sets\n",
    "X_train, X_val, y_train, y_val = train_test_split(train, y, test_size=0.25, random_state=1)"
   ]
  },
  {
   "cell_type": "markdown",
   "id": "limited-compression",
   "metadata": {},
   "source": [
    "Now, we can move on to fitting our first model. As a baseline, I will use a decision tree classifier."
   ]
  },
  {
   "cell_type": "code",
   "execution_count": 42,
   "id": "dependent-nature",
   "metadata": {},
   "outputs": [],
   "source": [
    "# Create and fit the decision tree classifier with defualt values\n",
    "clf_dectree = DecisionTreeClassifier(random_state=0).fit(X_train, y_train)"
   ]
  },
  {
   "cell_type": "code",
   "execution_count": 43,
   "id": "german-refrigerator",
   "metadata": {},
   "outputs": [
    {
     "data": {
      "text/plain": [
       "0.6946460237814933"
      ]
     },
     "execution_count": 43,
     "metadata": {},
     "output_type": "execute_result"
    }
   ],
   "source": [
    "# Compute the valdiation set AUC of the baseline model\n",
    "roc_auc_score(y_true=y_val, y_score=clf_dectree.predict_proba(X_val)[:,1])"
   ]
  },
  {
   "cell_type": "markdown",
   "id": "another-airfare",
   "metadata": {},
   "source": [
    "We see that the baseline model achieves a validation set AUC of approximatley 0.69. I think we can definitley fit a better model. Let's see if we can tune the cost complexity parameter of the tree in order to achieve a higher validation set AUC."
   ]
  },
  {
   "cell_type": "code",
   "execution_count": 44,
   "id": "multiple-absence",
   "metadata": {},
   "outputs": [],
   "source": [
    "# Tune the cost complexity parameter of the decision tree\n",
    "alpha = np.arange(0, 0.001, 0.0001)\n",
    "\n",
    "val_auc = [0]*len(alpha)\n",
    "for i in range(0, len(alpha)):\n",
    "    clf_dectree = DecisionTreeClassifier(random_state=0, ccp_alpha=alpha[i]).fit(X_train, y_train)\n",
    "    val_auc[i] = roc_auc_score(y_true=y_val, y_score=clf_dectree.predict_proba(X_val)[:,1])"
   ]
  },
  {
   "cell_type": "code",
   "execution_count": 45,
   "id": "transparent-warehouse",
   "metadata": {},
   "outputs": [
    {
     "data": {
      "text/html": [
       "<div>\n",
       "<style scoped>\n",
       "    .dataframe tbody tr th:only-of-type {\n",
       "        vertical-align: middle;\n",
       "    }\n",
       "\n",
       "    .dataframe tbody tr th {\n",
       "        vertical-align: top;\n",
       "    }\n",
       "\n",
       "    .dataframe thead th {\n",
       "        text-align: right;\n",
       "    }\n",
       "</style>\n",
       "<table border=\"1\" class=\"dataframe\">\n",
       "  <thead>\n",
       "    <tr style=\"text-align: right;\">\n",
       "      <th></th>\n",
       "      <th>Alpha</th>\n",
       "      <th>AUC</th>\n",
       "    </tr>\n",
       "  </thead>\n",
       "  <tbody>\n",
       "    <tr>\n",
       "      <th>0</th>\n",
       "      <td>0.0000</td>\n",
       "      <td>0.694646</td>\n",
       "    </tr>\n",
       "    <tr>\n",
       "      <th>1</th>\n",
       "      <td>0.0001</td>\n",
       "      <td>0.845304</td>\n",
       "    </tr>\n",
       "    <tr>\n",
       "      <th>2</th>\n",
       "      <td>0.0002</td>\n",
       "      <td>0.844230</td>\n",
       "    </tr>\n",
       "    <tr>\n",
       "      <th>3</th>\n",
       "      <td>0.0003</td>\n",
       "      <td>0.841830</td>\n",
       "    </tr>\n",
       "    <tr>\n",
       "      <th>4</th>\n",
       "      <td>0.0004</td>\n",
       "      <td>0.834972</td>\n",
       "    </tr>\n",
       "    <tr>\n",
       "      <th>5</th>\n",
       "      <td>0.0005</td>\n",
       "      <td>0.834972</td>\n",
       "    </tr>\n",
       "    <tr>\n",
       "      <th>6</th>\n",
       "      <td>0.0006</td>\n",
       "      <td>0.830651</td>\n",
       "    </tr>\n",
       "    <tr>\n",
       "      <th>7</th>\n",
       "      <td>0.0007</td>\n",
       "      <td>0.829603</td>\n",
       "    </tr>\n",
       "    <tr>\n",
       "      <th>8</th>\n",
       "      <td>0.0008</td>\n",
       "      <td>0.829603</td>\n",
       "    </tr>\n",
       "    <tr>\n",
       "      <th>9</th>\n",
       "      <td>0.0009</td>\n",
       "      <td>0.829603</td>\n",
       "    </tr>\n",
       "  </tbody>\n",
       "</table>\n",
       "</div>"
      ],
      "text/plain": [
       "    Alpha       AUC\n",
       "0  0.0000  0.694646\n",
       "1  0.0001  0.845304\n",
       "2  0.0002  0.844230\n",
       "3  0.0003  0.841830\n",
       "4  0.0004  0.834972\n",
       "5  0.0005  0.834972\n",
       "6  0.0006  0.830651\n",
       "7  0.0007  0.829603\n",
       "8  0.0008  0.829603\n",
       "9  0.0009  0.829603"
      ]
     },
     "execution_count": 45,
     "metadata": {},
     "output_type": "execute_result"
    }
   ],
   "source": [
    "# Visualise results\n",
    "pd.DataFrame({\"Alpha\":alpha, \"AUC\":val_auc})"
   ]
  },
  {
   "cell_type": "markdown",
   "id": "consecutive-switzerland",
   "metadata": {},
   "source": [
    "We see that a value for $\\alpha$ of 0.0001 leads to a validation set AUC of 0.845304. Let's see if we can improve on this with a random forest of decision trees."
   ]
  },
  {
   "cell_type": "code",
   "execution_count": 46,
   "id": "digital-worship",
   "metadata": {},
   "outputs": [
    {
     "data": {
      "text/plain": [
       "RandomForestClassifier(max_features=0.5, min_samples_leaf=20, n_estimators=40,\n",
       "                       n_jobs=-1, random_state=0)"
      ]
     },
     "execution_count": 46,
     "metadata": {},
     "output_type": "execute_result"
    }
   ],
   "source": [
    "# Fit a baseline random forest\n",
    "clf_rf = RandomForestClassifier(n_jobs=-1, n_estimators=40, max_features=0.5,\n",
    "        min_samples_leaf=20, random_state=0)\n",
    "clf_rf.fit(X_train, y_train)"
   ]
  },
  {
   "cell_type": "code",
   "execution_count": 47,
   "id": "departmental-belle",
   "metadata": {},
   "outputs": [
    {
     "data": {
      "text/plain": [
       "0.8481042556088161"
      ]
     },
     "execution_count": 47,
     "metadata": {},
     "output_type": "execute_result"
    }
   ],
   "source": [
    "# Calculate the validation set AUC\n",
    "roc_auc_score(y_true=y_val, y_score=clf_rf.predict_proba(X_val)[:,1])"
   ]
  },
  {
   "cell_type": "markdown",
   "id": "written-assembly",
   "metadata": {},
   "source": [
    "We see that an untuned random forest has a validation set AUC of 0.8481. Let's see if we can improve on this by tuning max_features."
   ]
  },
  {
   "cell_type": "code",
   "execution_count": 48,
   "id": "dominican-wales",
   "metadata": {},
   "outputs": [],
   "source": [
    "# Tune max_features\n",
    "max_features = np.arange(1, len(X_train.columns))\n",
    "\n",
    "val_auc = [0]*len(max_features)\n",
    "for i in range(0, len(max_features)):\n",
    "    clf_rf = RandomForestClassifier(n_jobs=-1, n_estimators=40, max_features=max_features[i],\n",
    "        min_samples_leaf=20, random_state=0).fit(X_train, y_train)\n",
    "    val_auc[i] = roc_auc_score(y_true=y_val, y_score=clf_rf.predict_proba(X_val)[:,1])"
   ]
  },
  {
   "cell_type": "code",
   "execution_count": 49,
   "id": "commercial-folks",
   "metadata": {},
   "outputs": [
    {
     "data": {
      "text/html": [
       "<div>\n",
       "<style scoped>\n",
       "    .dataframe tbody tr th:only-of-type {\n",
       "        vertical-align: middle;\n",
       "    }\n",
       "\n",
       "    .dataframe tbody tr th {\n",
       "        vertical-align: top;\n",
       "    }\n",
       "\n",
       "    .dataframe thead th {\n",
       "        text-align: right;\n",
       "    }\n",
       "</style>\n",
       "<table border=\"1\" class=\"dataframe\">\n",
       "  <thead>\n",
       "    <tr style=\"text-align: right;\">\n",
       "      <th></th>\n",
       "      <th>max_features</th>\n",
       "      <th>AUC</th>\n",
       "    </tr>\n",
       "  </thead>\n",
       "  <tbody>\n",
       "    <tr>\n",
       "      <th>0</th>\n",
       "      <td>1</td>\n",
       "      <td>0.848956</td>\n",
       "    </tr>\n",
       "    <tr>\n",
       "      <th>1</th>\n",
       "      <td>2</td>\n",
       "      <td>0.849257</td>\n",
       "    </tr>\n",
       "    <tr>\n",
       "      <th>2</th>\n",
       "      <td>3</td>\n",
       "      <td>0.848979</td>\n",
       "    </tr>\n",
       "    <tr>\n",
       "      <th>3</th>\n",
       "      <td>4</td>\n",
       "      <td>0.848104</td>\n",
       "    </tr>\n",
       "    <tr>\n",
       "      <th>4</th>\n",
       "      <td>5</td>\n",
       "      <td>0.846847</td>\n",
       "    </tr>\n",
       "    <tr>\n",
       "      <th>5</th>\n",
       "      <td>6</td>\n",
       "      <td>0.846519</td>\n",
       "    </tr>\n",
       "    <tr>\n",
       "      <th>6</th>\n",
       "      <td>7</td>\n",
       "      <td>0.846346</td>\n",
       "    </tr>\n",
       "    <tr>\n",
       "      <th>7</th>\n",
       "      <td>8</td>\n",
       "      <td>0.846046</td>\n",
       "    </tr>\n",
       "  </tbody>\n",
       "</table>\n",
       "</div>"
      ],
      "text/plain": [
       "   max_features       AUC\n",
       "0             1  0.848956\n",
       "1             2  0.849257\n",
       "2             3  0.848979\n",
       "3             4  0.848104\n",
       "4             5  0.846847\n",
       "5             6  0.846519\n",
       "6             7  0.846346\n",
       "7             8  0.846046"
      ]
     },
     "execution_count": 49,
     "metadata": {},
     "output_type": "execute_result"
    }
   ],
   "source": [
    "# Visualise results\n",
    "pd.DataFrame({\"max_features\":max_features, \"AUC\":val_auc})"
   ]
  },
  {
   "cell_type": "markdown",
   "id": "graduate-horizon",
   "metadata": {},
   "source": [
    "We see that setting max_featuresequal to 2 provides maximum validation set AUC. Let's go on to examine feature importence of our input features."
   ]
  },
  {
   "cell_type": "code",
   "execution_count": 50,
   "id": "genuine-presence",
   "metadata": {},
   "outputs": [],
   "source": [
    "def rf_feat_importance(m, df):\n",
    "    return pd.DataFrame({'cols':df.columns, 'imp':m.feature_importances_}\n",
    "                       ).sort_values('imp', ascending=False)\n",
    "def plot_fi(fi):\n",
    "    return fi.plot('cols', 'imp', 'barh', figsize=(12,7), legend=False)"
   ]
  },
  {
   "cell_type": "code",
   "execution_count": 51,
   "id": "removed-flashing",
   "metadata": {},
   "outputs": [
    {
     "data": {
      "text/plain": [
       "<AxesSubplot:ylabel='cols'>"
      ]
     },
     "execution_count": 51,
     "metadata": {},
     "output_type": "execute_result"
    },
    {
     "data": {
      "image/png": "[encoded data removed]",
      "text/plain": [
       "<Figure size 864x504 with 1 Axes>"
      ]
     },
     "metadata": {
      "needs_background": "light"
     },
     "output_type": "display_data"
    }
   ],
   "source": [
    "# Train the tuned random forest classifier\n",
    "clf_rf = RandomForestClassifier(n_jobs=-1, n_estimators=40, max_features=2,\n",
    "        min_samples_leaf=20, random_state=0).fit(X_train, y_train)\n",
    "\n",
    "# Generate feature importance plot\n",
    "fi = rf_feat_importance(clf_rf, X_train)\n",
    "plot_fi(fi)"
   ]
  },
  {
   "cell_type": "markdown",
   "id": "careful-cream",
   "metadata": {},
   "source": [
    "The above feature importance plot tells us that Vehicle_Damage, Previously_Insured, and Age are the most important features in predicting propensity for vehicle insurance. From our EDA, this result is not surprising. For example, we saw that almost all customers labelled as interested had experienced vehicle damage in the past, whereas uninterested customers were slightly more likely to have experienced no past vehicle damage. Does it make sense to recommend vehicle insurance based on this fact? Should we recommend insurance to customers that could be considered more risky? This is out of the scope of this competition but it is an interesting thought. \n",
    "\n",
    "Let's move on to examining some partial dependence plots of our numerical inputs to gauge whether they have the relationship with the response that we would expect."
   ]
  },
  {
   "cell_type": "code",
   "execution_count": 52,
   "id": "wicked-produce",
   "metadata": {
    "scrolled": false
   },
   "outputs": [
    {
     "data": {
      "image/png": "[encoded data removed]",
      "text/plain": [
       "<Figure size 864x288 with 3 Axes>"
      ]
     },
     "metadata": {
      "needs_background": "light"
     },
     "output_type": "display_data"
    }
   ],
   "source": [
    "fig,ax = plt.subplots(figsize=(12, 4))\n",
    "plot_partial_dependence(clf_rf, X_val, ['Age','Annual_Premium'],\n",
    "                        grid_resolution=20, ax=ax);"
   ]
  },
  {
   "cell_type": "code",
   "execution_count": 53,
   "id": "offshore-seven",
   "metadata": {},
   "outputs": [
    {
     "data": {
      "image/png": "[encoded data removed]",
      "text/plain": [
       "<Figure size 576x288 with 2 Axes>"
      ]
     },
     "metadata": {
      "needs_background": "light"
     },
     "output_type": "display_data"
    }
   ],
   "source": [
    "fig,ax = plt.subplots(figsize=(8, 4))\n",
    "plot_partial_dependence(clf_rf, X_val, ['Vintage'],\n",
    "                        grid_resolution=20, ax=ax);"
   ]
  },
  {
   "cell_type": "markdown",
   "id": "sporting-handy",
   "metadata": {},
   "source": [
    "Here, we see that the random forest has learnt a unimodal relationship between Age and predicted probability of being interested in a vehicle insurance policy. Clients between 30 and 40 years of age seem to be most likely to be interetsed in vehicle insurance (this is consistent with the empirical distribution of age that I plotted earlier). \n",
    "\n",
    "Furthermore, we see that the model has not learnt a clear relationship between Annual_Premium and the predicted probability of being interested in a vehicle insurance policy. This is reflected in this variable's low feature importance score. However, we saw earlier that a high proportion of clients have Annual_Premiums equal to the minimum value of Rs. 2630. Perhaps building two seperate models, one to treat the Rs. 2630 clients, and one to treat all others, may lead to an improvement in test AUC. For now, I am going to pin this idea for the sake of article length.\n",
    "\n",
    "Lastly, there appear to be regions of the domain of Vinatge where clients are more likely to be interested in vehicle insurance according to the random forest model. For example, clients with a vintage of between approximatley 75 and 100 months are least likely to be interested in vehicle insurance, while clients with a vintage of between approximatley 200 and 210 months are most likely to want vehicle insurance. There was no indication of this pattern in the exploratory data analysis, so I am hesitant to attach too much meaning to this finding.\n",
    "\n",
    "Finally, let's go on to test a LightGBM model."
   ]
  },
  {
   "cell_type": "code",
   "execution_count": 54,
   "id": "cloudy-template",
   "metadata": {},
   "outputs": [],
   "source": [
    "# Create the training and sets\n",
    "train_data = lgb.Dataset(X_train, label=y_train)\n",
    "validation_data = lgb.Dataset(X_val, label=y_val)"
   ]
  },
  {
   "cell_type": "code",
   "execution_count": 55,
   "id": "stable-release",
   "metadata": {},
   "outputs": [
    {
     "name": "stdout",
     "output_type": "stream",
     "text": [
      "[LightGBM] [Warning] Auto-choosing row-wise multi-threading, the overhead of testing was 0.000966 seconds.\n",
      "You can set `force_row_wise=true` to remove the overhead.\n",
      "And if memory is not enough, you can set `force_col_wise=true`.\n"
     ]
    }
   ],
   "source": [
    "# Train a LightGBM model with default values\n",
    "parameters = {'objective' : 'binary',\n",
    "              'metric' : 'auc',\n",
    "              'seed' : 1,\n",
    "              'verbose' : 0}\n",
    "bst = lgb.train(parameters, train_data, valid_sets=[validation_data], verbose_eval=False)"
   ]
  },
  {
   "cell_type": "code",
   "execution_count": 56,
   "id": "spread-washington",
   "metadata": {},
   "outputs": [
    {
     "data": {
      "text/plain": [
       "0.8536486788387558"
      ]
     },
     "execution_count": 56,
     "metadata": {},
     "output_type": "execute_result"
    }
   ],
   "source": [
    "# Calculate the validation set AUC\n",
    "roc_auc_score(y_true=y_val, y_score=bst.predict(X_val))"
   ]
  },
  {
   "cell_type": "markdown",
   "id": "banner-boring",
   "metadata": {},
   "source": [
    "The LightGBM classifier has a validation set AUC of 0.8536, slightly better than the random forest. Let's see if we can improve on this result by implementing hyperparameter tuning for the learning rate and the max depth of each tree, and utiltising early stopping."
   ]
  },
  {
   "cell_type": "code",
   "execution_count": 57,
   "id": "statewide-retreat",
   "metadata": {},
   "outputs": [],
   "source": [
    "# Create the parameter grid\n",
    "max_depth = np.arange(1, 11)\n",
    "learning_rate = np.arange(0.01, 0.11, 0.01)\n",
    "param_grid = [(x, y) for x in max_depth for y in learning_rate]\n",
    "\n",
    "# Create the lists to hold the validation set AUC scores and early stopping iterations\n",
    "val_auc = [0]*len(param_grid)\n",
    "boosting_iterations = [0]*len(param_grid)"
   ]
  },
  {
   "cell_type": "code",
   "execution_count": 58,
   "id": "important-newcastle",
   "metadata": {},
   "outputs": [],
   "source": [
    "# Perform hyperparameter tuning\n",
    "for i in range(0, len(param_grid)):\n",
    "    \n",
    "    # Create the parameter dict\n",
    "    parameters = {\n",
    "                    'objective': 'binary',\n",
    "                    'metric': 'auc',\n",
    "                    'max_depth': param_grid[i][0],\n",
    "                    'learning_rate': param_grid[i][1],\n",
    "                    'verbose' : -1,\n",
    "                    'seed' : 1\n",
    "                }\n",
    "    \n",
    "    # Train the classifier\n",
    "    bst = lgb.train(parameters, train_data, valid_sets=[validation_data], num_boost_round=5000, early_stopping_rounds=100, \n",
    "                    verbose_eval=False)\n",
    "    \n",
    "    # Calculate the validation set AUC\n",
    "    val_auc[i] = roc_auc_score(y_true=y_val, y_score=bst.predict(X_val, num_iteration=bst.best_iteration))\n",
    "    boosting_iterations[i] = bst.best_iteration"
   ]
  },
  {
   "cell_type": "code",
   "execution_count": 59,
   "id": "static-ozone",
   "metadata": {},
   "outputs": [
    {
     "name": "stdout",
     "output_type": "stream",
     "text": [
      "Max validation set AUC: 0.8544605311928813\n",
      "Optimal paramater values: (2, 0.09)\n",
      "Optimal boosting iterations: 891\n"
     ]
    }
   ],
   "source": [
    "# Examine which parameter values led to the highest validation set AUC\n",
    "print(\"Max validation set AUC:\", val_auc[np.where(val_auc == np.max(val_auc))[0][0]])\n",
    "print(\"Optimal paramater values:\", param_grid[np.where(val_auc == np.max(val_auc))[0][0]])\n",
    "print(\"Optimal boosting iterations:\", boosting_iterations[np.where(val_auc == np.max(val_auc))[0][0]])"
   ]
  },
  {
   "cell_type": "markdown",
   "id": "rolled-reflection",
   "metadata": {},
   "source": [
    "We see that the optimal LightGBM model has a validation set AUC of 0.8545. Now, let's examine feature importance."
   ]
  },
  {
   "cell_type": "code",
   "execution_count": 60,
   "id": "competent-david",
   "metadata": {},
   "outputs": [],
   "source": [
    "# Train the optimal model\n",
    "parameters = {\n",
    "                'objective': 'binary',\n",
    "                'metric': 'auc',\n",
    "                'max_depth': 2,\n",
    "                'learning_rate': 0.09,\n",
    "                'verbose' : -1,\n",
    "                'seed' : 1\n",
    "                }\n",
    "bst = lgb.train(parameters, train_data, valid_sets=[validation_data], num_boost_round=1500, early_stopping_rounds=100, \n",
    "                verbose_eval=False)"
   ]
  },
  {
   "cell_type": "code",
   "execution_count": 61,
   "id": "flush-tablet",
   "metadata": {},
   "outputs": [],
   "source": [
    "def lgb_feat_importance(m, df):\n",
    "    return pd.DataFrame({'cols':df.columns, 'imp':m.feature_importance()}\n",
    "                       ).sort_values('imp', ascending=False)"
   ]
  },
  {
   "cell_type": "code",
   "execution_count": 62,
   "id": "universal-bread",
   "metadata": {},
   "outputs": [
    {
     "data": {
      "text/plain": [
       "<AxesSubplot:ylabel='cols'>"
      ]
     },
     "execution_count": 62,
     "metadata": {},
     "output_type": "execute_result"
    },
    {
     "data": {
      "image/png": "[encoded data removed]",
      "text/plain": [
       "<Figure size 864x504 with 1 Axes>"
      ]
     },
     "metadata": {
      "needs_background": "light"
     },
     "output_type": "display_data"
    }
   ],
   "source": [
    "fi = lgb_feat_importance(bst, X_val)\n",
    "plot_fi(fi)"
   ]
  },
  {
   "cell_type": "markdown",
   "id": "trained-brunei",
   "metadata": {},
   "source": [
    "This is interesting. The optimal LightGBM classifier has a fairly different ordering of the inputs in terms of feature importance than the optimal random forest. Let's examine the partial dependence plots of the two most important numerical predictors."
   ]
  },
  {
   "cell_type": "code",
   "execution_count": 63,
   "id": "geographic-thanksgiving",
   "metadata": {},
   "outputs": [
    {
     "data": {
      "text/plain": [
       "LGBMClassifier(learning_rate=0.09, max_depth=2, n_estimators=1500,\n",
       "               objective='binary', random_state=1)"
      ]
     },
     "execution_count": 63,
     "metadata": {},
     "output_type": "execute_result"
    }
   ],
   "source": [
    "# Use the sklearn API to train the classifier\n",
    "bst_sk = lgb.LGBMClassifier(objective='binary', max_depth=2, learning_rate=0.09,  random_state=1,n_estimators=1500)\n",
    "\n",
    "bst_sk.fit(X_train, y_train, verbose=False, \n",
    "        early_stopping_rounds=100, eval_set=[(X_val, y_val)], eval_metric='auc')"
   ]
  },
  {
   "cell_type": "code",
   "execution_count": 64,
   "id": "smaller-alexander",
   "metadata": {},
   "outputs": [
    {
     "data": {
      "image/png": "[encoded data removed]",
      "text/plain": [
       "<Figure size 864x288 with 3 Axes>"
      ]
     },
     "metadata": {
      "needs_background": "light"
     },
     "output_type": "display_data"
    }
   ],
   "source": [
    "fig,ax = plt.subplots(figsize=(12, 4))\n",
    "plot_partial_dependence(bst_sk, X_val, ['Age','Annual_Premium'],\n",
    "                        grid_resolution=20, ax=ax);"
   ]
  },
  {
   "cell_type": "code",
   "execution_count": 65,
   "id": "blessed-webcam",
   "metadata": {},
   "outputs": [
    {
     "data": {
      "image/png": "[encoded data removed]",
      "text/plain": [
       "<Figure size 576x288 with 2 Axes>"
      ]
     },
     "metadata": {
      "needs_background": "light"
     },
     "output_type": "display_data"
    }
   ],
   "source": [
    "fig,ax = plt.subplots(figsize=(8, 4))\n",
    "plot_partial_dependence(bst_sk, X_val, ['Vintage'],\n",
    "                        grid_resolution=20, ax=ax);"
   ]
  },
  {
   "cell_type": "markdown",
   "id": "vocal-ridge",
   "metadata": {},
   "source": [
    "It seems that the optimal LightGBM model has identified similar marginal relationships between the numerical inputs and the response to the optimal random forest model. \n",
    "\n",
    "Let's see how the validation set AUC is impacted if we remove the least important predictors."
   ]
  },
  {
   "cell_type": "code",
   "execution_count": 66,
   "id": "organized-hometown",
   "metadata": {},
   "outputs": [
    {
     "data": {
      "text/plain": [
       "7"
      ]
     },
     "execution_count": 66,
     "metadata": {},
     "output_type": "execute_result"
    }
   ],
   "source": [
    "# Select the most important features\n",
    "to_keep = fi[fi.imp>100].cols\n",
    "len(to_keep)"
   ]
  },
  {
   "cell_type": "code",
   "execution_count": 67,
   "id": "biblical-cornwall",
   "metadata": {},
   "outputs": [
    {
     "ename": "NameError",
     "evalue": "name 'lbg' is not defined",
     "output_type": "error",
     "traceback": [
      "\u001b[1;31m---------------------------------------------------------------------------\u001b[0m",
      "\u001b[1;31mNameError\u001b[0m                                 Traceback (most recent call last)",
      "\u001b[1;32m<ipython-input-67-74c0658830eb>\u001b[0m in \u001b[0;36m<module>\u001b[1;34m\u001b[0m\n\u001b[0;32m      4\u001b[0m \u001b[1;31m# Create the LightGBM training and validation sets\u001b[0m\u001b[1;33m\u001b[0m\u001b[1;33m\u001b[0m\u001b[1;33m\u001b[0m\u001b[0m\n\u001b[0;32m      5\u001b[0m \u001b[0mtrain_data\u001b[0m \u001b[1;33m=\u001b[0m \u001b[0mlgb\u001b[0m\u001b[1;33m.\u001b[0m\u001b[0mDataset\u001b[0m\u001b[1;33m(\u001b[0m\u001b[0mX_train_imp\u001b[0m \u001b[1;33m,\u001b[0m \u001b[0mlabel\u001b[0m\u001b[1;33m=\u001b[0m\u001b[0my_train\u001b[0m\u001b[1;33m)\u001b[0m\u001b[1;33m\u001b[0m\u001b[1;33m\u001b[0m\u001b[0m\n\u001b[1;32m----> 6\u001b[1;33m \u001b[0mvalidation_data\u001b[0m \u001b[1;33m=\u001b[0m \u001b[0mlbg\u001b[0m\u001b[1;33m.\u001b[0m\u001b[0mDataset\u001b[0m\u001b[1;33m(\u001b[0m\u001b[0mX_val_imp\u001b[0m\u001b[1;33m,\u001b[0m \u001b[0mlabel\u001b[0m\u001b[1;33m=\u001b[0m\u001b[0my_val\u001b[0m\u001b[1;33m)\u001b[0m\u001b[1;33m\u001b[0m\u001b[1;33m\u001b[0m\u001b[0m\n\u001b[0m",
      "\u001b[1;31mNameError\u001b[0m: name 'lbg' is not defined"
     ]
    }
   ],
   "source": [
    "X_train_imp = X_train[to_keep]\n",
    "X_val_imp = X_val[to_keep]\n",
    "\n",
    "# Create the LightGBM training and validation sets\n",
    "train_data = lgb.Dataset(X_train_imp , label=y_train)\n",
    "validation_data = lbg.Dataset(X_val_imp, label=y_val)"
   ]
  },
  {
   "cell_type": "code",
   "execution_count": null,
   "id": "resistant-spectacular",
   "metadata": {},
   "outputs": [],
   "source": [
    "# Train the optimal model\n",
    "parameters = {\n",
    "                'objective': 'binary',\n",
    "                'metric': 'auc',\n",
    "                'max_depth': 2,\n",
    "                'learning_rate': 0.09,\n",
    "                'verbose' : -1,\n",
    "                'seed' : 1\n",
    "                }\n",
    "bst = lgb.train(parameters, train_data, valid_sets=[validation_data], num_boost_round=1500, early_stopping_rounds=100, \n",
    "                verbose_eval=False)"
   ]
  },
  {
   "cell_type": "code",
   "execution_count": null,
   "id": "rolled-scientist",
   "metadata": {},
   "outputs": [],
   "source": [
    "roc_auc_score(y_true=y_val, y_score=bst.predict(X_val_imp, num_iteration=bst.best_iteration))"
   ]
  },
  {
   "cell_type": "markdown",
   "id": "laughing-connection",
   "metadata": {},
   "source": [
    "We see that dropping Gender and Previously_Insured leads to a minisule reduction in validation set AUC.\n",
    "\n",
    "Now, the last thing I would like to try is to see if using an ensemble of the optimal decision tree, random forest and LightGBM models will lead to a higher validation set AUC. My rationale here is that we would expect that the errors made by each learning method are relatively uncorrelated, and the average of their predictions should have lower error than either of the learning method's predictions in isolation. Let's test this hypothesis."
   ]
  },
  {
   "cell_type": "code",
   "execution_count": null,
   "id": "compound-bobby",
   "metadata": {},
   "outputs": [],
   "source": [
    "# Train the tuned decision tree classifier on the training set selected by the LightGBM model\n",
    "clf_dectree = DecisionTreeClassifier(random_state=0, ccp_alpha=0.001).fit(X_train_imp, y_train)\n",
    "\n",
    "# Train the tuned random forest classifier on the training set selected by the LightGBM model\n",
    "clf_rf = RandomForestClassifier(n_jobs=-1, n_estimators=40, max_features=2,\n",
    "        min_samples_leaf=20, random_state=0).fit(X_train_imp, y_train)\n",
    "\n",
    "# Obtain the average prediction made by the ensemble of the random forest and LightGBM models\n",
    "rf_preds = np.array(clf_rf.predict_proba(X_val_imp)[:,1])\n",
    "light_preds = np.array(bst.predict(X_val_imp, num_iteration=bst.best_iteration))\n",
    "dec_tree_preds = np.array(clf_dectree.predict_proba(X_val_imp)[:,1])\n",
    "ensemble_preds = (rf_preds + light_preds + dec_tree_preds)/3\n",
    "\n",
    "# Calculate the validation AUCs\n",
    "print(\"Validation set AUC of the Decision Tree:\", roc_auc_score(y_true=y_val, y_score=dec_tree_preds))\n",
    "print(\"Validation set AUC of the Random Forest:\", roc_auc_score(y_true=y_val, y_score=rf_preds))\n",
    "print(\"Validation set AUC of the LightGBM:\", roc_auc_score(y_true=y_val, y_score=light_preds))\n",
    "print(\"Validation set AUC of the Ensemble:\", roc_auc_score(y_true=y_val, y_score=ensemble_preds))"
   ]
  },
  {
   "cell_type": "markdown",
   "id": "resistant-journalism",
   "metadata": {},
   "source": [
    "We see that we end on a marginally lower validation set AUC than the LightGBM model if we use the ensemble. It seems that here, the ensemble validation set AUC is weighed down by the random forest and decision tree. Furthermore, we may expect tree based methods to make predictions in a somewhat similar fashion, and thus their errors may be positivley correlated. Perhaps the inclusion of a method such as logistic regression or a support vector machine may have led to a different result.\n",
    "\n",
    "I will be selecting the optimal LightGBM model as the model I will use on the test set. Let's examine what the out-of-sample AUC is for this model."
   ]
  },
  {
   "cell_type": "code",
   "execution_count": null,
   "id": "honey-allah",
   "metadata": {},
   "outputs": [],
   "source": [
    "# Prep the OOT set for prediction\n",
    "# Obtain the numerical representations of the categorical variables\n",
    "cats = ['Gender', 'Driving_License', 'Region_Code', 'Previously_Insured',\n",
    "       'Vehicle_Age', 'Vehicle_Damage', 'Policy_Sales_Channel']\n",
    "for i in range(len(cats)):\n",
    "   X_oot[cats[i]] = X_oot[cats[i]].cat.codes\n",
    "\n",
    "X_oot_imp = X_oot[to_keep]"
   ]
  },
  {
   "cell_type": "code",
   "execution_count": null,
   "id": "dressed-fossil",
   "metadata": {},
   "outputs": [],
   "source": [
    "# Combine the training and validation set to train on\n",
    "X_train_final = pd.concat([X_train_imp, X_val_imp], axis=0)\n",
    "y_train_final = pd.concat([y_train, y_val], axis=0)\n",
    "\n",
    "# Create the LightGBM training and validation sets\n",
    "train_data = lgb.Dataset(X_train_final , label=y_train_final)\n",
    "\n",
    "# Train the optimal model\n",
    "parameters = {\n",
    "                'objective': 'binary',\n",
    "                'max_depth': 2,\n",
    "                'learning_rate': 0.09,\n",
    "                'verbose' : -1,\n",
    "                'seed' : 1\n",
    "             }\n",
    "bst = lgb.train(parameters, train_data, num_boost_round=891)\n",
    "\n",
    "roc_auc_score(y_true=y_oot, y_score=bst.predict(X_oot_imp))"
   ]
  },
  {
   "cell_type": "markdown",
   "id": "moved-terror",
   "metadata": {},
   "source": [
    "That is excellent! Usually, a degredation in AUC is expected when the case-to-control ratio returns to its original level. However, it seems that the increase in training data has outweighed this tendancy.\n",
    "\n",
    "Now, let's obtain preditions on the test set."
   ]
  },
  {
   "cell_type": "code",
   "execution_count": null,
   "id": "posted-journalist",
   "metadata": {},
   "outputs": [],
   "source": [
    "# Import the test set\n",
    "test_set = pd.read_csv('test.csv')\n",
    "\n",
    "# Prep the test set for prediction\n",
    "ids = test_set.pop('id')\n",
    "\n",
    "# Prep the OOT set for prediction\n",
    "# Obtain the numerical representations of the categorical variables\n",
    "cats = ['Gender', 'Driving_License', 'Region_Code', 'Previously_Insured',\n",
    "       'Vehicle_Age', 'Vehicle_Damage', 'Policy_Sales_Channel']\n",
    "\n",
    "test_set[cats] = test_set[cats].astype('category')\n",
    "\n",
    "for i in range(len(cats)):\n",
    "   test_set[cats[i]] = test_set[cats[i]].cat.codes\n",
    "\n",
    "test_set_imp = test_set[to_keep]"
   ]
  },
  {
   "cell_type": "code",
   "execution_count": null,
   "id": "serious-review",
   "metadata": {},
   "outputs": [],
   "source": [
    "# Obtain predictions\n",
    "preds = bst.predict(test_set_imp)"
   ]
  },
  {
   "cell_type": "code",
   "execution_count": null,
   "id": "exact-density",
   "metadata": {},
   "outputs": [],
   "source": [
    "# Write predictions to a CSV\n",
    "pd.DataFrame({'id':ids, 'Response':preds}).to_csv('preds.csv')"
   ]
  }
 ],
 "metadata": {
  "kernelspec": {
   "display_name": "Python 3",
   "language": "python",
   "name": "python3"
  },
  "language_info": {
   "codemirror_mode": {
    "name": "ipython",
    "version": 3
   },
   "file_extension": ".py",
   "mimetype": "text/x-python",
   "name": "python",
   "nbconvert_exporter": "python",
   "pygments_lexer": "ipython3",
   "version": "3.8.5"
  }
 },
 "nbformat": 4,
 "nbformat_minor": 5
}
